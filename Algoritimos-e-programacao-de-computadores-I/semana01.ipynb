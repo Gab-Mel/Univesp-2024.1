{
 "cells": [
  {
   "cell_type": "markdown",
   "metadata": {},
   "source": [
    "# 01: Introdução a algoritmos  e a Python.\n",
    "___\n",
    "\n",
    "## Objetivo: \n",
    " - Desenvolver algoritmos para resolver problemas;\n",
    " - Representtar algoritmos na forma de fluxogramas;\n",
    " - Saber um pouco mais sobre a linguagem Python e como configurá-la no seu computador.\n",
    "___\n",
    "\n",
    "# Noções de Algoritmos:\n",
    "\n",
    "1. definição do problema\n",
    "2. Projetar a Solução (Algoritmo)\n",
    "2. Codificar a Solução (Programar em Linguagem de Programação)\n",
    "2. Testar programa.\n",
    "\n",
    "## Definição:\n",
    "uma sequencia de passos, bem definitos, para resolver um problema, ou cumprir um objetivo.\n",
    "\n",
    "## Qualidades necessárias:\n",
    "1. Cada passo deve possuir uma instrução que possa ser realizada com êxito;\n",
    "1. A ordem dos passos deve ser precisamente determinada;\n",
    "1. O algoritimo deve ter fim.\n",
    "\n",
    "## Sequenciamento:\n",
    "Estabele um padrão de comportamento. As ações devem ser executadas linearmente, em sequência, uma após a outra.\n",
    "\n",
    "## Teste seletivo (if/else/elif): \n",
    "Determina qual conjunto de ações deve ser seguido, dependendo do resultado da condição resultar em verdadeiro ou falso.\n",
    "\n",
    "## Repetição (for/while):\n",
    "Mesmo trecho é repetido várias vezes, até que a condição de parada seja alcançada. Esta condição pode ser um numero determinado de repetições (for) ou uma condição lógica de verdadeiro ou falso (while).\n"
   ]
  },
  {
   "cell_type": "markdown",
   "metadata": {},
   "source": [
    "___\n",
    "# Quiz da Videoaula 1 -Noção de algoritmos\n",
    "\n",
    "Você tem que fazer um algoritmo sobre como fazer café usando água, café em pó, uma garrafa térmica e um coador de café. Veja a solução apresentada por um colega em português coloquial. Escolha a alternativa correta que descreva as características deste algoritimo.\n",
    "\n",
    "1. Início do algoritmo.\n",
    "1. Coloque o café.\n",
    "1. Coloque  a água.\n",
    "\n",
    "a\\). O algoritmo está incompleto. Ele precisa ter a declaração de fim do algoritmo a ser refinado. Os dois passos indicados são muito genéricos.\n",
    "b\\). O algoritmo está correto. ELe contém todos os passos para se fazer um café.\n",
    "c\\). O algoritmo está correto. Ele contém todos os passos na ordem correta para se fazer um café.\n",
    "d\\). O algoritmo está correto. Ele contém as declarações de início do algoritimo e tem os dois passos concretos para se fazer um café.\n",
    "e\\). O algoritmo está incorreto. Não precisa ter a indicação de inpicio do algoritmo.\n",
    "\n",
    "### Resposta.:\n",
    "O algoritimo está claramente inconsistente, alternativa correta: a\\).\n",
    " ___\n",
    "\n",
    " ## Fluxogramas \n",
    "\n",
    " ![](https://images.app.goo.gl/bbcssovPSuW3rS4L6)"
   ]
  }
 ],
 "metadata": {
  "language_info": {
   "name": "python"
  }
 },
 "nbformat": 4,
 "nbformat_minor": 2
}
