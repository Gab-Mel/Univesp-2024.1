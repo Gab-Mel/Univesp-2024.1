{
 "cells": [
  {
   "cell_type": "markdown",
   "metadata": {},
   "source": [
    "# 01: Introdução a algoritmos  e a Python.\n",
    "___\n",
    "\n",
    "## Objetivo: \n",
    " - Desenvolver algoritmos para resolver problemas;\n",
    " - Representtar algoritmos na forma de fluxogramas;\n",
    " - Saber um pouco mais sobre a linguagem Python e como configurá-la no seu computador.\n",
    "___\n",
    "\n",
    "## Noções de Algoritmos:\n",
    "\n",
    "1. definição do problema\n",
    "2. Projetar a Solução (Algoritmo)\n",
    "2. Codificar a Solução (Programar em Linguagem de Programação)\n",
    "2. Testar programa.\n",
    "\n",
    "## Definição:\n",
    "uma sequencia de passos, bem definitos, para resolver um problema, ou cumprir um objetivo.\n",
    "\n",
    "## Qualidades necessárias:\n",
    "1. Cada passo deve possuir uma instrução que possa ser realizada com êxito;\n",
    "1. A ordem dos passos deve ser precisamente determinada;\n",
    "1. O algoritimo deve ter fim.\n",
    "\n",
    "## Sequenciamento:\n",
    "Estabele um padrão de comportamento. As ações devem ser executadas linearmente, em sequência, uma após a outra.\n",
    "\n",
    "## Teste seletivo (if/else/elif): \n",
    "Determina qual conjunto de ações deve ser seguido, dependendo do resultado da condição resultar em verdadeiro ou falso.\n",
    "\n",
    "## Repetição (for/while):\n",
    "Mesmo trecho é repetido várias vezes, até que a condição de parada seja alcançada. Esta condição pode ser um numero determinado de repetições (for) ou uma condição lógica de verdadeiro ou falso (while).\n"
   ]
  },
  {
   "cell_type": "markdown",
   "metadata": {},
   "source": [
    "___\n",
    "\n",
    "# Quiz da Videoaula 1 -Noção de algoritmos\n",
    "\n",
    "Você tem que fazer um algoritmo sobre como fazer café usando água, café em pó, uma garrafa térmica e um coador de café. Veja a solução apresentada por um colega em português coloquial. Escolha a alternativa correta que descreva as características deste algoritimo.\n",
    "\n",
    "1. Início do algoritmo.\n",
    "1. Coloque o café.\n",
    "1. Coloque  a água.\n",
    "\n",
    "a\\). O algoritmo está incompleto. Ele precisa ter a declaração de fim do algoritmo a ser refinado. Os dois passos indicados são muito genéricos.\n",
    "b\\). O algoritmo está correto. ELe contém todos os passos para se fazer um café.\n",
    "c\\). O algoritmo está correto. Ele contém todos os passos na ordem correta para se fazer um café.\n",
    "d\\). O algoritmo está correto. Ele contém as declarações de início do algoritimo e tem os dois passos concretos para se fazer um café.\n",
    "e\\). O algoritmo está incorreto. Não precisa ter a indicação de inpicio do algoritmo.\n",
    "\n",
    "### Resposta.:\n",
    "O algoritimo está claramente inconsistente, alternativa correta: a\\).\n",
    "\n",
    "___"
   ]
  },
  {
   "cell_type": "markdown",
   "metadata": {},
   "source": [
    "## Floxogramas"
   ]
  },
  {
   "cell_type": "code",
   "execution_count": 2,
   "metadata": {},
   "outputs": [
    {
     "ename": "UnidentifiedImageError",
     "evalue": "cannot identify image file 'sample.jpg'",
     "output_type": "error",
     "traceback": [
      "\u001b[1;31m---------------------------------------------------------------------------\u001b[0m",
      "\u001b[1;31mUnidentifiedImageError\u001b[0m                    Traceback (most recent call last)",
      "Cell \u001b[1;32mIn[2], line 7\u001b[0m\n\u001b[0;32m      4\u001b[0m url \u001b[38;5;241m=\u001b[39m \u001b[38;5;124m\"\u001b[39m\u001b[38;5;124mhttps://images.app.goo.gl/bbcssovPSuW3rS4L6\u001b[39m\u001b[38;5;124m\"\u001b[39m\n\u001b[0;32m      5\u001b[0m urllib\u001b[38;5;241m.\u001b[39mrequest\u001b[38;5;241m.\u001b[39murlretrieve(url, \u001b[38;5;124m\"\u001b[39m\u001b[38;5;124msample.jpg\u001b[39m\u001b[38;5;124m\"\u001b[39m)\n\u001b[1;32m----> 7\u001b[0m img \u001b[38;5;241m=\u001b[39m \u001b[43mImage\u001b[49m\u001b[38;5;241;43m.\u001b[39;49m\u001b[43mopen\u001b[49m\u001b[43m(\u001b[49m\u001b[38;5;124;43m\"\u001b[39;49m\u001b[38;5;124;43msample.jpg\u001b[39;49m\u001b[38;5;124;43m\"\u001b[39;49m\u001b[43m)\u001b[49m\n\u001b[0;32m      8\u001b[0m img\u001b[38;5;241m.\u001b[39mshow()\n",
      "File \u001b[1;32m~\\AppData\\Local\\Packages\\PythonSoftwareFoundation.Python.3.11_qbz5n2kfra8p0\\LocalCache\\local-packages\\Python311\\site-packages\\PIL\\Image.py:3298\u001b[0m, in \u001b[0;36mopen\u001b[1;34m(fp, mode, formats)\u001b[0m\n\u001b[0;32m   3296\u001b[0m     warnings\u001b[38;5;241m.\u001b[39mwarn(message)\n\u001b[0;32m   3297\u001b[0m msg \u001b[38;5;241m=\u001b[39m \u001b[38;5;124m\"\u001b[39m\u001b[38;5;124mcannot identify image file \u001b[39m\u001b[38;5;132;01m%r\u001b[39;00m\u001b[38;5;124m\"\u001b[39m \u001b[38;5;241m%\u001b[39m (filename \u001b[38;5;28;01mif\u001b[39;00m filename \u001b[38;5;28;01melse\u001b[39;00m fp)\n\u001b[1;32m-> 3298\u001b[0m \u001b[38;5;28;01mraise\u001b[39;00m UnidentifiedImageError(msg)\n",
      "\u001b[1;31mUnidentifiedImageError\u001b[0m: cannot identify image file 'sample.jpg'"
     ]
    }
   ],
   "source": [
    "import urllib.request\n",
    "from PIL import Image\n",
    "\n",
    "url = \"https://i.ytimg.com/vi/yJVxIKlg5zs/maxresdefault.jpg\"\n",
    "urllib.request.urlretrieve(url, \"sample.jpg\")\n",
    "\n",
    "img = Image.open(\"sample.jpg\")\n",
    "img.show()"
   ]
  }
 ],
 "metadata": {
  "kernelspec": {
   "display_name": "Python 3",
   "language": "python",
   "name": "python3"
  },
  "language_info": {
   "codemirror_mode": {
    "name": "ipython",
    "version": 3
   },
   "file_extension": ".py",
   "mimetype": "text/x-python",
   "name": "python",
   "nbconvert_exporter": "python",
   "pygments_lexer": "ipython3",
   "version": "3.11.7"
  }
 },
 "nbformat": 4,
 "nbformat_minor": 2
}
